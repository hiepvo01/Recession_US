{
 "cells": [
  {
   "cell_type": "code",
   "execution_count": 9,
   "metadata": {},
   "outputs": [],
   "source": [
    "library(\"rio\")\n",
    "\n",
    "x <- import(\"Original_Data/month_CPI.csv\")\n",
    "export(x, \"R_Importable_Data/month_CPI_import.RData\")"
   ]
  },
  {
   "cell_type": "code",
   "execution_count": 10,
   "metadata": {},
   "outputs": [],
   "source": [
    "x <- import(\"Original_Data/month_housePrice.csv\")\n",
    "export(x, \"R_Importable_Data/month_housePrice_import.RData\")"
   ]
  },
  {
   "cell_type": "code",
   "execution_count": 11,
   "metadata": {},
   "outputs": [],
   "source": [
    "x <- import(\"Original_Data/month_InvestorFlow.csv\")\n",
    "export(x, \"R_Importable_Data/month_InvestorFlow_import.RData\")"
   ]
  },
  {
   "cell_type": "code",
   "execution_count": 12,
   "metadata": {},
   "outputs": [],
   "source": [
    "x <- import(\"Original_Data/month_longtermInterest.csv\")\n",
    "export(x, \"R_Importable_Data/month_longtermInterest_import.RData\")"
   ]
  },
  {
   "cell_type": "code",
   "execution_count": 13,
   "metadata": {},
   "outputs": [],
   "source": [
    "x <- import(\"Original_Data/year_educationBudget.csv\")\n",
    "export(x, \"R_Importable_Data/year_educationBudget_import.RData\")"
   ]
  },
  {
   "cell_type": "code",
   "execution_count": 14,
   "metadata": {},
   "outputs": [],
   "source": [
    "x <- import(\"Original_Data/year_empRate.csv\")\n",
    "export(x, \"R_Importable_Data/year_empRate_import.RData\")"
   ]
  },
  {
   "cell_type": "code",
   "execution_count": 15,
   "metadata": {},
   "outputs": [],
   "source": [
    "x <- import(\"Original_Data/year_GDP.csv\")\n",
    "export(x, \"R_Importable_Data/year_GDP_import.RData\")"
   ]
  },
  {
   "cell_type": "code",
   "execution_count": 16,
   "metadata": {},
   "outputs": [],
   "source": [
    "x <- import(\"Original_Data/year_houseIncome.csv\")\n",
    "export(x, \"R_Importable_Data/year_houseIncome.RData\")"
   ]
  },
  {
   "cell_type": "code",
   "execution_count": null,
   "metadata": {},
   "outputs": [],
   "source": []
  }
 ],
 "metadata": {
  "kernelspec": {
   "display_name": "R",
   "language": "R",
   "name": "ir"
  },
  "language_info": {
   "codemirror_mode": "r",
   "file_extension": ".r",
   "mimetype": "text/x-r-source",
   "name": "R",
   "pygments_lexer": "r",
   "version": "3.6.3"
  }
 },
 "nbformat": 4,
 "nbformat_minor": 2
}
